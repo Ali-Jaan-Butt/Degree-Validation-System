{
 "cells": [
  {
   "cell_type": "code",
   "execution_count": 74,
   "id": "fae4c77a",
   "metadata": {},
   "outputs": [],
   "source": [
    "import tabula\n",
    "import re\n",
    "import pandas as pd\n",
    "import numpy as np\n",
    "import math"
   ]
  },
  {
   "cell_type": "code",
   "execution_count": 31,
   "id": "9a8505a5",
   "metadata": {},
   "outputs": [],
   "source": [
    "pdf_path = 'Gz_Ia1p21.pdf'"
   ]
  },
  {
   "cell_type": "code",
   "execution_count": 32,
   "id": "e79d2281",
   "metadata": {},
   "outputs": [],
   "source": [
    "tables = tabula.read_pdf(pdf_path, pages='103', multiple_tables=True)"
   ]
  },
  {
   "cell_type": "code",
   "execution_count": 33,
   "id": "702a14d3",
   "metadata": {},
   "outputs": [],
   "source": [
    "df = tables[0]"
   ]
  },
  {
   "cell_type": "code",
   "execution_count": 34,
   "id": "da89ec8e",
   "metadata": {},
   "outputs": [],
   "source": [
    "var = {}\n",
    "for i in range(3):\n",
    "    c = 3\n",
    "    var_df = f\"df{i}\"\n",
    "    var[var_df] = df[df.columns[:c]]\n",
    "    c+=3"
   ]
  },
  {
   "cell_type": "code",
   "execution_count": 35,
   "id": "6c5b0cc9",
   "metadata": {},
   "outputs": [],
   "source": [
    "df_final = pd.concat([var['df0'],var['df1'],var['df2']], axis=0, ignore_index=True)"
   ]
  },
  {
   "cell_type": "code",
   "execution_count": 36,
   "id": "44a505bc",
   "metadata": {},
   "outputs": [],
   "source": [
    "df = df_final.drop('Unnamed: 0', axis= 1)"
   ]
  },
  {
   "cell_type": "code",
   "execution_count": 37,
   "id": "2d1c99dc",
   "metadata": {},
   "outputs": [],
   "source": [
    "df['Roll'] = [re.split(' ', i)[0] for i in df['Roll-No Name']]"
   ]
  },
  {
   "cell_type": "code",
   "execution_count": 26,
   "id": "b86aaa87",
   "metadata": {},
   "outputs": [
    {
     "data": {
      "text/plain": [
       "'-GOVT.COLLEGE,GUJRANWALA'"
      ]
     },
     "execution_count": 26,
     "metadata": {},
     "output_type": "execute_result"
    }
   ],
   "source": [
    "''.join(re.split(' ', df['Roll-No Name'][0])[1:])"
   ]
  },
  {
   "cell_type": "code",
   "execution_count": 38,
   "id": "e220b016",
   "metadata": {},
   "outputs": [],
   "source": [
    "df['Roll-No Name'] = [''.join(re.split(' ', i)[1:]) for i in df['Roll-No Name']]"
   ]
  },
  {
   "cell_type": "code",
   "execution_count": 62,
   "id": "07d1da8b",
   "metadata": {},
   "outputs": [
    {
     "data": {
      "text/plain": [
       "float"
      ]
     },
     "execution_count": 62,
     "metadata": {},
     "output_type": "execute_result"
    }
   ],
   "source": [
    "type(np.nan)"
   ]
  },
  {
   "cell_type": "code",
   "execution_count": 77,
   "id": "ea69fc45",
   "metadata": {},
   "outputs": [
    {
     "data": {
      "text/plain": [
       "float"
      ]
     },
     "execution_count": 77,
     "metadata": {},
     "output_type": "execute_result"
    }
   ],
   "source": [
    "type(math.nan)"
   ]
  },
  {
   "cell_type": "code",
   "execution_count": 79,
   "id": "80bf5c37",
   "metadata": {},
   "outputs": [
    {
     "data": {
      "text/plain": [
       "str"
      ]
     },
     "execution_count": 79,
     "metadata": {},
     "output_type": "execute_result"
    }
   ],
   "source": [
    "type(df['Result'][1])"
   ]
  },
  {
   "cell_type": "code",
   "execution_count": 82,
   "id": "35181780",
   "metadata": {},
   "outputs": [
    {
     "data": {
      "text/plain": [
       "nan"
      ]
     },
     "execution_count": 82,
     "metadata": {},
     "output_type": "execute_result"
    }
   ],
   "source": [
    "df['Result'][0]"
   ]
  },
  {
   "cell_type": "code",
   "execution_count": 84,
   "id": "7d12ee0e",
   "metadata": {},
   "outputs": [
    {
     "data": {
      "text/plain": [
       "float"
      ]
     },
     "execution_count": 84,
     "metadata": {},
     "output_type": "execute_result"
    }
   ],
   "source": [
    "type(df['Result'][0])"
   ]
  },
  {
   "cell_type": "code",
   "execution_count": 149,
   "id": "ef197d31",
   "metadata": {},
   "outputs": [
    {
     "data": {
      "text/html": [
       "<div>\n",
       "<style scoped>\n",
       "    .dataframe tbody tr th:only-of-type {\n",
       "        vertical-align: middle;\n",
       "    }\n",
       "\n",
       "    .dataframe tbody tr th {\n",
       "        vertical-align: top;\n",
       "    }\n",
       "\n",
       "    .dataframe thead th {\n",
       "        text-align: right;\n",
       "    }\n",
       "</style>\n",
       "<table border=\"1\" class=\"dataframe\">\n",
       "  <thead>\n",
       "    <tr style=\"text-align: right;\">\n",
       "      <th></th>\n",
       "      <th>Roll-No Name</th>\n",
       "      <th>Unnamed: 0</th>\n",
       "      <th>Result</th>\n",
       "    </tr>\n",
       "  </thead>\n",
       "  <tbody>\n",
       "  </tbody>\n",
       "</table>\n",
       "</div>"
      ],
      "text/plain": [
       "Empty DataFrame\n",
       "Columns: [Roll-No Name, Unnamed: 0, Result]\n",
       "Index: []"
      ]
     },
     "execution_count": 149,
     "metadata": {},
     "output_type": "execute_result"
    }
   ],
   "source": [
    "df_final[df_final['Result']==217]"
   ]
  },
  {
   "cell_type": "code",
   "execution_count": 150,
   "id": "1700b299",
   "metadata": {},
   "outputs": [],
   "source": [
    "df = df_final[df_final['Result'] != np.nan]"
   ]
  },
  {
   "cell_type": "code",
   "execution_count": 151,
   "id": "8f711a35",
   "metadata": {},
   "outputs": [],
   "source": [
    "roll = [re.split(' ', i)[0] for i in df['Roll-No Name']]"
   ]
  },
  {
   "cell_type": "code",
   "execution_count": 152,
   "id": "0d4e3742",
   "metadata": {
    "collapsed": true
   },
   "outputs": [
    {
     "data": {
      "text/plain": [
       "['211001',\n",
       " '301572',\n",
       " '301577',\n",
       " '301580',\n",
       " '301583',\n",
       " '301586',\n",
       " '301589',\n",
       " '301617',\n",
       " '301624',\n",
       " '301657',\n",
       " '301662',\n",
       " '301666',\n",
       " '301669',\n",
       " '301672',\n",
       " '301675',\n",
       " '301677',\n",
       " '301705',\n",
       " '301712',\n",
       " '301716',\n",
       " '301719',\n",
       " '301722',\n",
       " '301725',\n",
       " '301728',\n",
       " '301731',\n",
       " '301733',\n",
       " '301760',\n",
       " '301767',\n",
       " '301772',\n",
       " '301775',\n",
       " '301778',\n",
       " '301781',\n",
       " '301784',\n",
       " '301787',\n",
       " '301790',\n",
       " '301814',\n",
       " '301821',\n",
       " '301827',\n",
       " '301831',\n",
       " '301835',\n",
       " '301839',\n",
       " '211001',\n",
       " '301572',\n",
       " '301577',\n",
       " '301580',\n",
       " '301583',\n",
       " '301586',\n",
       " '301589',\n",
       " '301617',\n",
       " '301624',\n",
       " '301657',\n",
       " '301662',\n",
       " '301666',\n",
       " '301669',\n",
       " '301672',\n",
       " '301675',\n",
       " '301677',\n",
       " '301705',\n",
       " '301712',\n",
       " '301716',\n",
       " '301719',\n",
       " '301722',\n",
       " '301725',\n",
       " '301728',\n",
       " '301731',\n",
       " '301733',\n",
       " '301760',\n",
       " '301767',\n",
       " '301772',\n",
       " '301775',\n",
       " '301778',\n",
       " '301781',\n",
       " '301784',\n",
       " '301787',\n",
       " '301790',\n",
       " '301814',\n",
       " '301821',\n",
       " '301827',\n",
       " '301831',\n",
       " '301835',\n",
       " '301839',\n",
       " '211001',\n",
       " '301572',\n",
       " '301577',\n",
       " '301580',\n",
       " '301583',\n",
       " '301586',\n",
       " '301589',\n",
       " '301617',\n",
       " '301624',\n",
       " '301657',\n",
       " '301662',\n",
       " '301666',\n",
       " '301669',\n",
       " '301672',\n",
       " '301675',\n",
       " '301677',\n",
       " '301705',\n",
       " '301712',\n",
       " '301716',\n",
       " '301719',\n",
       " '301722',\n",
       " '301725',\n",
       " '301728',\n",
       " '301731',\n",
       " '301733',\n",
       " '301760',\n",
       " '301767',\n",
       " '301772',\n",
       " '301775',\n",
       " '301778',\n",
       " '301781',\n",
       " '301784',\n",
       " '301787',\n",
       " '301790',\n",
       " '301814',\n",
       " '301821',\n",
       " '301827',\n",
       " '301831',\n",
       " '301835',\n",
       " '301839']"
      ]
     },
     "execution_count": 152,
     "metadata": {},
     "output_type": "execute_result"
    }
   ],
   "source": [
    "roll"
   ]
  },
  {
   "cell_type": "code",
   "execution_count": 153,
   "id": "b43a4adf",
   "metadata": {
    "collapsed": true
   },
   "outputs": [
    {
     "data": {
      "text/html": [
       "<div>\n",
       "<style scoped>\n",
       "    .dataframe tbody tr th:only-of-type {\n",
       "        vertical-align: middle;\n",
       "    }\n",
       "\n",
       "    .dataframe tbody tr th {\n",
       "        vertical-align: top;\n",
       "    }\n",
       "\n",
       "    .dataframe thead th {\n",
       "        text-align: right;\n",
       "    }\n",
       "</style>\n",
       "<table border=\"1\" class=\"dataframe\">\n",
       "  <thead>\n",
       "    <tr style=\"text-align: right;\">\n",
       "      <th></th>\n",
       "      <th>Roll-No Name</th>\n",
       "      <th>Unnamed: 0</th>\n",
       "      <th>Result</th>\n",
       "    </tr>\n",
       "  </thead>\n",
       "  <tbody>\n",
       "    <tr>\n",
       "      <th>0</th>\n",
       "      <td>211001 - GOVT. COLLEGE, GUJRANWALA</td>\n",
       "      <td>NaN</td>\n",
       "      <td>NaN</td>\n",
       "    </tr>\n",
       "    <tr>\n",
       "      <th>1</th>\n",
       "      <td>301572 KAMRAN------------------------</td>\n",
       "      <td>NaN</td>\n",
       "      <td>171</td>\n",
       "    </tr>\n",
       "    <tr>\n",
       "      <th>2</th>\n",
       "      <td>301577 MUHAMMAD YOUNIS---------------</td>\n",
       "      <td>NaN</td>\n",
       "      <td>208</td>\n",
       "    </tr>\n",
       "    <tr>\n",
       "      <th>3</th>\n",
       "      <td>301580 HAFIZ ABDULLAH BUTT-----------</td>\n",
       "      <td>NaN</td>\n",
       "      <td>365</td>\n",
       "    </tr>\n",
       "    <tr>\n",
       "      <th>4</th>\n",
       "      <td>301583 MUHAMMAD RAMZAN---------------</td>\n",
       "      <td>NaN</td>\n",
       "      <td>196</td>\n",
       "    </tr>\n",
       "    <tr>\n",
       "      <th>...</th>\n",
       "      <td>...</td>\n",
       "      <td>...</td>\n",
       "      <td>...</td>\n",
       "    </tr>\n",
       "    <tr>\n",
       "      <th>115</th>\n",
       "      <td>301821 SIRAT ALI---------------------</td>\n",
       "      <td>NaN</td>\n",
       "      <td>208</td>\n",
       "    </tr>\n",
       "    <tr>\n",
       "      <th>116</th>\n",
       "      <td>301827 MUHAMMAD USMAN----------------</td>\n",
       "      <td>NaN</td>\n",
       "      <td>355</td>\n",
       "    </tr>\n",
       "    <tr>\n",
       "      <th>117</th>\n",
       "      <td>301831 AHMAD ASLAM-------------------</td>\n",
       "      <td>NaN</td>\n",
       "      <td>285</td>\n",
       "    </tr>\n",
       "    <tr>\n",
       "      <th>118</th>\n",
       "      <td>301835 HANZLA------------------------</td>\n",
       "      <td>NaN</td>\n",
       "      <td>171</td>\n",
       "    </tr>\n",
       "    <tr>\n",
       "      <th>119</th>\n",
       "      <td>301839 MUHAMMAD SUFYAN---------------</td>\n",
       "      <td>NaN</td>\n",
       "      <td>257</td>\n",
       "    </tr>\n",
       "  </tbody>\n",
       "</table>\n",
       "<p>120 rows × 3 columns</p>\n",
       "</div>"
      ],
      "text/plain": [
       "                              Roll-No Name  Unnamed: 0 Result\n",
       "0       211001 - GOVT. COLLEGE, GUJRANWALA         NaN    NaN\n",
       "1    301572 KAMRAN------------------------         NaN    171\n",
       "2    301577 MUHAMMAD YOUNIS---------------         NaN    208\n",
       "3    301580 HAFIZ ABDULLAH BUTT-----------         NaN    365\n",
       "4    301583 MUHAMMAD RAMZAN---------------         NaN    196\n",
       "..                                     ...         ...    ...\n",
       "115  301821 SIRAT ALI---------------------         NaN    208\n",
       "116  301827 MUHAMMAD USMAN----------------         NaN    355\n",
       "117  301831 AHMAD ASLAM-------------------         NaN    285\n",
       "118  301835 HANZLA------------------------         NaN    171\n",
       "119  301839 MUHAMMAD SUFYAN---------------         NaN    257\n",
       "\n",
       "[120 rows x 3 columns]"
      ]
     },
     "execution_count": 153,
     "metadata": {},
     "output_type": "execute_result"
    }
   ],
   "source": [
    "df"
   ]
  },
  {
   "cell_type": "code",
   "execution_count": 24,
   "id": "d9d2c52d",
   "metadata": {},
   "outputs": [],
   "source": [
    "text_pattern = 'Unnamed'"
   ]
  },
  {
   "cell_type": "code",
   "execution_count": 32,
   "id": "0d39efc7",
   "metadata": {},
   "outputs": [
    {
     "data": {
      "text/plain": [
       "Index(['Roll-No Name', 'Unnamed: 0', 'Result', 'Roll-No Name.1', 'Unnamed: 1',\n",
       "       'Result.1', 'Roll-No Name.2', 'Unnamed: 2', 'Result.2'],\n",
       "      dtype='object')"
      ]
     },
     "execution_count": 32,
     "metadata": {},
     "output_type": "execute_result"
    }
   ],
   "source": [
    "df.columns"
   ]
  },
  {
   "cell_type": "code",
   "execution_count": 38,
   "id": "87a77938",
   "metadata": {},
   "outputs": [
    {
     "data": {
      "text/plain": [
       "'301577 MUHAMMAD YOUNIS---------------'"
      ]
     },
     "execution_count": 38,
     "metadata": {},
     "output_type": "execute_result"
    }
   ],
   "source": [
    "df['Roll-No Name'][2]"
   ]
  },
  {
   "cell_type": "code",
   "execution_count": 30,
   "id": "fe355331",
   "metadata": {
    "collapsed": true
   },
   "outputs": [
    {
     "ename": "AttributeError",
     "evalue": "Can only use .str accessor with string values!",
     "output_type": "error",
     "traceback": [
      "\u001b[0;31m---------------------------------------------------------------------------\u001b[0m",
      "\u001b[0;31mAttributeError\u001b[0m                            Traceback (most recent call last)",
      "Cell \u001b[0;32mIn[30], line 1\u001b[0m\n\u001b[0;32m----> 1\u001b[0m columns_to_drop \u001b[38;5;241m=\u001b[39m [col \u001b[38;5;28;01mfor\u001b[39;00m col \u001b[38;5;129;01min\u001b[39;00m df\u001b[38;5;241m.\u001b[39mcolumns \u001b[38;5;28;01mif\u001b[39;00m \u001b[38;5;28many\u001b[39m(df[col]\u001b[38;5;241m.\u001b[39mstr\u001b[38;5;241m.\u001b[39mmatch(text_pattern))]\n",
      "Cell \u001b[0;32mIn[30], line 1\u001b[0m, in \u001b[0;36m<listcomp>\u001b[0;34m(.0)\u001b[0m\n\u001b[0;32m----> 1\u001b[0m columns_to_drop \u001b[38;5;241m=\u001b[39m [col \u001b[38;5;28;01mfor\u001b[39;00m col \u001b[38;5;129;01min\u001b[39;00m df\u001b[38;5;241m.\u001b[39mcolumns \u001b[38;5;28;01mif\u001b[39;00m \u001b[38;5;28many\u001b[39m(df[col]\u001b[38;5;241m.\u001b[39mstr\u001b[38;5;241m.\u001b[39mmatch(text_pattern))]\n",
      "File \u001b[0;32m~/anaconda3/lib/python3.11/site-packages/pandas/core/generic.py:5902\u001b[0m, in \u001b[0;36mNDFrame.__getattr__\u001b[0;34m(self, name)\u001b[0m\n\u001b[1;32m   5895\u001b[0m \u001b[38;5;28;01mif\u001b[39;00m (\n\u001b[1;32m   5896\u001b[0m     name \u001b[38;5;129;01mnot\u001b[39;00m \u001b[38;5;129;01min\u001b[39;00m \u001b[38;5;28mself\u001b[39m\u001b[38;5;241m.\u001b[39m_internal_names_set\n\u001b[1;32m   5897\u001b[0m     \u001b[38;5;129;01mand\u001b[39;00m name \u001b[38;5;129;01mnot\u001b[39;00m \u001b[38;5;129;01min\u001b[39;00m \u001b[38;5;28mself\u001b[39m\u001b[38;5;241m.\u001b[39m_metadata\n\u001b[1;32m   5898\u001b[0m     \u001b[38;5;129;01mand\u001b[39;00m name \u001b[38;5;129;01mnot\u001b[39;00m \u001b[38;5;129;01min\u001b[39;00m \u001b[38;5;28mself\u001b[39m\u001b[38;5;241m.\u001b[39m_accessors\n\u001b[1;32m   5899\u001b[0m     \u001b[38;5;129;01mand\u001b[39;00m \u001b[38;5;28mself\u001b[39m\u001b[38;5;241m.\u001b[39m_info_axis\u001b[38;5;241m.\u001b[39m_can_hold_identifiers_and_holds_name(name)\n\u001b[1;32m   5900\u001b[0m ):\n\u001b[1;32m   5901\u001b[0m     \u001b[38;5;28;01mreturn\u001b[39;00m \u001b[38;5;28mself\u001b[39m[name]\n\u001b[0;32m-> 5902\u001b[0m \u001b[38;5;28;01mreturn\u001b[39;00m \u001b[38;5;28mobject\u001b[39m\u001b[38;5;241m.\u001b[39m\u001b[38;5;21m__getattribute__\u001b[39m(\u001b[38;5;28mself\u001b[39m, name)\n",
      "File \u001b[0;32m~/anaconda3/lib/python3.11/site-packages/pandas/core/accessor.py:182\u001b[0m, in \u001b[0;36mCachedAccessor.__get__\u001b[0;34m(self, obj, cls)\u001b[0m\n\u001b[1;32m    179\u001b[0m \u001b[38;5;28;01mif\u001b[39;00m obj \u001b[38;5;129;01mis\u001b[39;00m \u001b[38;5;28;01mNone\u001b[39;00m:\n\u001b[1;32m    180\u001b[0m     \u001b[38;5;66;03m# we're accessing the attribute of the class, i.e., Dataset.geo\u001b[39;00m\n\u001b[1;32m    181\u001b[0m     \u001b[38;5;28;01mreturn\u001b[39;00m \u001b[38;5;28mself\u001b[39m\u001b[38;5;241m.\u001b[39m_accessor\n\u001b[0;32m--> 182\u001b[0m accessor_obj \u001b[38;5;241m=\u001b[39m \u001b[38;5;28mself\u001b[39m\u001b[38;5;241m.\u001b[39m_accessor(obj)\n\u001b[1;32m    183\u001b[0m \u001b[38;5;66;03m# Replace the property with the accessor object. Inspired by:\u001b[39;00m\n\u001b[1;32m    184\u001b[0m \u001b[38;5;66;03m# https://www.pydanny.com/cached-property.html\u001b[39;00m\n\u001b[1;32m    185\u001b[0m \u001b[38;5;66;03m# We need to use object.__setattr__ because we overwrite __setattr__ on\u001b[39;00m\n\u001b[1;32m    186\u001b[0m \u001b[38;5;66;03m# NDFrame\u001b[39;00m\n\u001b[1;32m    187\u001b[0m \u001b[38;5;28mobject\u001b[39m\u001b[38;5;241m.\u001b[39m\u001b[38;5;21m__setattr__\u001b[39m(obj, \u001b[38;5;28mself\u001b[39m\u001b[38;5;241m.\u001b[39m_name, accessor_obj)\n",
      "File \u001b[0;32m~/anaconda3/lib/python3.11/site-packages/pandas/core/strings/accessor.py:181\u001b[0m, in \u001b[0;36mStringMethods.__init__\u001b[0;34m(self, data)\u001b[0m\n\u001b[1;32m    178\u001b[0m \u001b[38;5;28;01mdef\u001b[39;00m \u001b[38;5;21m__init__\u001b[39m(\u001b[38;5;28mself\u001b[39m, data) \u001b[38;5;241m-\u001b[39m\u001b[38;5;241m>\u001b[39m \u001b[38;5;28;01mNone\u001b[39;00m:\n\u001b[1;32m    179\u001b[0m     \u001b[38;5;28;01mfrom\u001b[39;00m \u001b[38;5;21;01mpandas\u001b[39;00m\u001b[38;5;21;01m.\u001b[39;00m\u001b[38;5;21;01mcore\u001b[39;00m\u001b[38;5;21;01m.\u001b[39;00m\u001b[38;5;21;01marrays\u001b[39;00m\u001b[38;5;21;01m.\u001b[39;00m\u001b[38;5;21;01mstring_\u001b[39;00m \u001b[38;5;28;01mimport\u001b[39;00m StringDtype\n\u001b[0;32m--> 181\u001b[0m     \u001b[38;5;28mself\u001b[39m\u001b[38;5;241m.\u001b[39m_inferred_dtype \u001b[38;5;241m=\u001b[39m \u001b[38;5;28mself\u001b[39m\u001b[38;5;241m.\u001b[39m_validate(data)\n\u001b[1;32m    182\u001b[0m     \u001b[38;5;28mself\u001b[39m\u001b[38;5;241m.\u001b[39m_is_categorical \u001b[38;5;241m=\u001b[39m is_categorical_dtype(data\u001b[38;5;241m.\u001b[39mdtype)\n\u001b[1;32m    183\u001b[0m     \u001b[38;5;28mself\u001b[39m\u001b[38;5;241m.\u001b[39m_is_string \u001b[38;5;241m=\u001b[39m \u001b[38;5;28misinstance\u001b[39m(data\u001b[38;5;241m.\u001b[39mdtype, StringDtype)\n",
      "File \u001b[0;32m~/anaconda3/lib/python3.11/site-packages/pandas/core/strings/accessor.py:235\u001b[0m, in \u001b[0;36mStringMethods._validate\u001b[0;34m(data)\u001b[0m\n\u001b[1;32m    232\u001b[0m inferred_dtype \u001b[38;5;241m=\u001b[39m lib\u001b[38;5;241m.\u001b[39minfer_dtype(values, skipna\u001b[38;5;241m=\u001b[39m\u001b[38;5;28;01mTrue\u001b[39;00m)\n\u001b[1;32m    234\u001b[0m \u001b[38;5;28;01mif\u001b[39;00m inferred_dtype \u001b[38;5;129;01mnot\u001b[39;00m \u001b[38;5;129;01min\u001b[39;00m allowed_types:\n\u001b[0;32m--> 235\u001b[0m     \u001b[38;5;28;01mraise\u001b[39;00m \u001b[38;5;167;01mAttributeError\u001b[39;00m(\u001b[38;5;124m\"\u001b[39m\u001b[38;5;124mCan only use .str accessor with string values!\u001b[39m\u001b[38;5;124m\"\u001b[39m)\n\u001b[1;32m    236\u001b[0m \u001b[38;5;28;01mreturn\u001b[39;00m inferred_dtype\n",
      "\u001b[0;31mAttributeError\u001b[0m: Can only use .str accessor with string values!"
     ]
    }
   ],
   "source": [
    "columns_to_drop = [col for col in df.columns if any(df[col].str.match(text_pattern))]"
   ]
  },
  {
   "cell_type": "code",
   "execution_count": null,
   "id": "06b78a6a",
   "metadata": {},
   "outputs": [],
   "source": [
    "df = df.drop(columns=columns_to_drop)"
   ]
  },
  {
   "cell_type": "code",
   "execution_count": 29,
   "id": "c84d3be7",
   "metadata": {},
   "outputs": [
    {
     "data": {
      "text/plain": [
       "[]"
      ]
     },
     "execution_count": 29,
     "metadata": {},
     "output_type": "execute_result"
    }
   ],
   "source": [
    "columns_to_drop"
   ]
  },
  {
   "cell_type": "code",
   "execution_count": 52,
   "id": "9ae5eafb",
   "metadata": {
    "collapsed": true
   },
   "outputs": [
    {
     "data": {
      "text/html": [
       "<div>\n",
       "<style scoped>\n",
       "    .dataframe tbody tr th:only-of-type {\n",
       "        vertical-align: middle;\n",
       "    }\n",
       "\n",
       "    .dataframe tbody tr th {\n",
       "        vertical-align: top;\n",
       "    }\n",
       "\n",
       "    .dataframe thead th {\n",
       "        text-align: right;\n",
       "    }\n",
       "</style>\n",
       "<table border=\"1\" class=\"dataframe\">\n",
       "  <thead>\n",
       "    <tr style=\"text-align: right;\">\n",
       "      <th></th>\n",
       "      <th>Roll-No Name</th>\n",
       "      <th>Unnamed: 0</th>\n",
       "      <th>Result</th>\n",
       "    </tr>\n",
       "  </thead>\n",
       "  <tbody>\n",
       "    <tr>\n",
       "      <th>0</th>\n",
       "      <td>211001 - GOVT. COLLEGE, GUJRANWALA</td>\n",
       "      <td>NaN</td>\n",
       "      <td>NaN</td>\n",
       "    </tr>\n",
       "    <tr>\n",
       "      <th>1</th>\n",
       "      <td>301572 KAMRAN------------------------</td>\n",
       "      <td>NaN</td>\n",
       "      <td>171</td>\n",
       "    </tr>\n",
       "    <tr>\n",
       "      <th>2</th>\n",
       "      <td>301577 MUHAMMAD YOUNIS---------------</td>\n",
       "      <td>NaN</td>\n",
       "      <td>208</td>\n",
       "    </tr>\n",
       "    <tr>\n",
       "      <th>3</th>\n",
       "      <td>301580 HAFIZ ABDULLAH BUTT-----------</td>\n",
       "      <td>NaN</td>\n",
       "      <td>365</td>\n",
       "    </tr>\n",
       "    <tr>\n",
       "      <th>4</th>\n",
       "      <td>301583 MUHAMMAD RAMZAN---------------</td>\n",
       "      <td>NaN</td>\n",
       "      <td>196</td>\n",
       "    </tr>\n",
       "    <tr>\n",
       "      <th>5</th>\n",
       "      <td>301586 MUHAMMAD ARSALAN--------------</td>\n",
       "      <td>NaN</td>\n",
       "      <td>309</td>\n",
       "    </tr>\n",
       "    <tr>\n",
       "      <th>6</th>\n",
       "      <td>301589 RAZA ULLAH--------------------</td>\n",
       "      <td>NaN</td>\n",
       "      <td>193</td>\n",
       "    </tr>\n",
       "    <tr>\n",
       "      <th>7</th>\n",
       "      <td>301617 ALI HAIDER--------------------</td>\n",
       "      <td>NaN</td>\n",
       "      <td>193</td>\n",
       "    </tr>\n",
       "    <tr>\n",
       "      <th>8</th>\n",
       "      <td>301624 MUHAMMAD MUKARRAM RAZA--------</td>\n",
       "      <td>NaN</td>\n",
       "      <td>231</td>\n",
       "    </tr>\n",
       "    <tr>\n",
       "      <th>9</th>\n",
       "      <td>301657 MUHAMMAD SUFYAN ALI-----------</td>\n",
       "      <td>NaN</td>\n",
       "      <td>213</td>\n",
       "    </tr>\n",
       "    <tr>\n",
       "      <th>10</th>\n",
       "      <td>301662 MUHAMMAD SAMI-----------------</td>\n",
       "      <td>NaN</td>\n",
       "      <td>171</td>\n",
       "    </tr>\n",
       "    <tr>\n",
       "      <th>11</th>\n",
       "      <td>301666 ALI HAIDER--------------------</td>\n",
       "      <td>NaN</td>\n",
       "      <td>250</td>\n",
       "    </tr>\n",
       "    <tr>\n",
       "      <th>12</th>\n",
       "      <td>301669 SAFEER IFTIKHAR---------------</td>\n",
       "      <td>NaN</td>\n",
       "      <td>420</td>\n",
       "    </tr>\n",
       "    <tr>\n",
       "      <th>13</th>\n",
       "      <td>301672 ABUZAR------------------------</td>\n",
       "      <td>NaN</td>\n",
       "      <td>183</td>\n",
       "    </tr>\n",
       "    <tr>\n",
       "      <th>14</th>\n",
       "      <td>301675 ADEEL AHMAD-------------------</td>\n",
       "      <td>NaN</td>\n",
       "      <td>PHY</td>\n",
       "    </tr>\n",
       "    <tr>\n",
       "      <th>15</th>\n",
       "      <td>301677 ZAKRIA NASIR------------------</td>\n",
       "      <td>NaN</td>\n",
       "      <td>242</td>\n",
       "    </tr>\n",
       "    <tr>\n",
       "      <th>16</th>\n",
       "      <td>301705 NAVEED AHMED------------------</td>\n",
       "      <td>NaN</td>\n",
       "      <td>217</td>\n",
       "    </tr>\n",
       "    <tr>\n",
       "      <th>17</th>\n",
       "      <td>301712 MUHAMMAD AHMED----------------</td>\n",
       "      <td>NaN</td>\n",
       "      <td>171</td>\n",
       "    </tr>\n",
       "    <tr>\n",
       "      <th>18</th>\n",
       "      <td>301716 WAQAR AHMAD-------------------</td>\n",
       "      <td>NaN</td>\n",
       "      <td>217</td>\n",
       "    </tr>\n",
       "    <tr>\n",
       "      <th>19</th>\n",
       "      <td>301719 ZAIGHAM ABBAS KHAN------------</td>\n",
       "      <td>NaN</td>\n",
       "      <td>171</td>\n",
       "    </tr>\n",
       "    <tr>\n",
       "      <th>20</th>\n",
       "      <td>301722 ALI HAIDER--------------------</td>\n",
       "      <td>NaN</td>\n",
       "      <td>ABSENT</td>\n",
       "    </tr>\n",
       "    <tr>\n",
       "      <th>21</th>\n",
       "      <td>301725 MUHAMMAD ALI------------------</td>\n",
       "      <td>NaN</td>\n",
       "      <td>381</td>\n",
       "    </tr>\n",
       "    <tr>\n",
       "      <th>22</th>\n",
       "      <td>301728 MUHAMMAD PERVAIZ--------------</td>\n",
       "      <td>NaN</td>\n",
       "      <td>236</td>\n",
       "    </tr>\n",
       "    <tr>\n",
       "      <th>23</th>\n",
       "      <td>301731 MUHAMMAD UMAR-----------------</td>\n",
       "      <td>NaN</td>\n",
       "      <td>286</td>\n",
       "    </tr>\n",
       "    <tr>\n",
       "      <th>24</th>\n",
       "      <td>301733 AFTAB AHMAD-------------------</td>\n",
       "      <td>NaN</td>\n",
       "      <td>250</td>\n",
       "    </tr>\n",
       "    <tr>\n",
       "      <th>25</th>\n",
       "      <td>301760 SHAHID KHAN-------------------</td>\n",
       "      <td>NaN</td>\n",
       "      <td>187</td>\n",
       "    </tr>\n",
       "    <tr>\n",
       "      <th>26</th>\n",
       "      <td>301767 MUHAMMAD YASEEN CHATTAH-------</td>\n",
       "      <td>NaN</td>\n",
       "      <td>243</td>\n",
       "    </tr>\n",
       "    <tr>\n",
       "      <th>27</th>\n",
       "      <td>301772 UMER FIAZ---------------------</td>\n",
       "      <td>NaN</td>\n",
       "      <td>172</td>\n",
       "    </tr>\n",
       "    <tr>\n",
       "      <th>28</th>\n",
       "      <td>301775 ZAIN ALLAH DITTA--------------</td>\n",
       "      <td>NaN</td>\n",
       "      <td>290</td>\n",
       "    </tr>\n",
       "    <tr>\n",
       "      <th>29</th>\n",
       "      <td>301778 HAROON------------------------</td>\n",
       "      <td>NaN</td>\n",
       "      <td>171</td>\n",
       "    </tr>\n",
       "    <tr>\n",
       "      <th>30</th>\n",
       "      <td>301781 HUZAIFA-----------------------</td>\n",
       "      <td>NaN</td>\n",
       "      <td>198</td>\n",
       "    </tr>\n",
       "    <tr>\n",
       "      <th>31</th>\n",
       "      <td>301784 JAWAD AHMAD-------------------</td>\n",
       "      <td>NaN</td>\n",
       "      <td>PHY</td>\n",
       "    </tr>\n",
       "    <tr>\n",
       "      <th>32</th>\n",
       "      <td>301787 MUHAMMAD AHMAD----------------</td>\n",
       "      <td>NaN</td>\n",
       "      <td>183</td>\n",
       "    </tr>\n",
       "    <tr>\n",
       "      <th>33</th>\n",
       "      <td>301790 UMAR ZIKRIA-------------------</td>\n",
       "      <td>NaN</td>\n",
       "      <td>385</td>\n",
       "    </tr>\n",
       "    <tr>\n",
       "      <th>34</th>\n",
       "      <td>301814 RAB NAWAZ---------------------</td>\n",
       "      <td>NaN</td>\n",
       "      <td>ABSENT</td>\n",
       "    </tr>\n",
       "    <tr>\n",
       "      <th>35</th>\n",
       "      <td>301821 SIRAT ALI---------------------</td>\n",
       "      <td>NaN</td>\n",
       "      <td>208</td>\n",
       "    </tr>\n",
       "    <tr>\n",
       "      <th>36</th>\n",
       "      <td>301827 MUHAMMAD USMAN----------------</td>\n",
       "      <td>NaN</td>\n",
       "      <td>355</td>\n",
       "    </tr>\n",
       "    <tr>\n",
       "      <th>37</th>\n",
       "      <td>301831 AHMAD ASLAM-------------------</td>\n",
       "      <td>NaN</td>\n",
       "      <td>285</td>\n",
       "    </tr>\n",
       "    <tr>\n",
       "      <th>38</th>\n",
       "      <td>301835 HANZLA------------------------</td>\n",
       "      <td>NaN</td>\n",
       "      <td>171</td>\n",
       "    </tr>\n",
       "    <tr>\n",
       "      <th>39</th>\n",
       "      <td>301839 MUHAMMAD SUFYAN---------------</td>\n",
       "      <td>NaN</td>\n",
       "      <td>257</td>\n",
       "    </tr>\n",
       "  </tbody>\n",
       "</table>\n",
       "</div>"
      ],
      "text/plain": [
       "                             Roll-No Name  Unnamed: 0  Result\n",
       "0      211001 - GOVT. COLLEGE, GUJRANWALA         NaN     NaN\n",
       "1   301572 KAMRAN------------------------         NaN     171\n",
       "2   301577 MUHAMMAD YOUNIS---------------         NaN     208\n",
       "3   301580 HAFIZ ABDULLAH BUTT-----------         NaN     365\n",
       "4   301583 MUHAMMAD RAMZAN---------------         NaN     196\n",
       "5   301586 MUHAMMAD ARSALAN--------------         NaN     309\n",
       "6   301589 RAZA ULLAH--------------------         NaN     193\n",
       "7   301617 ALI HAIDER--------------------         NaN     193\n",
       "8   301624 MUHAMMAD MUKARRAM RAZA--------         NaN     231\n",
       "9   301657 MUHAMMAD SUFYAN ALI-----------         NaN     213\n",
       "10  301662 MUHAMMAD SAMI-----------------         NaN     171\n",
       "11  301666 ALI HAIDER--------------------         NaN     250\n",
       "12  301669 SAFEER IFTIKHAR---------------         NaN     420\n",
       "13  301672 ABUZAR------------------------         NaN     183\n",
       "14  301675 ADEEL AHMAD-------------------         NaN     PHY\n",
       "15  301677 ZAKRIA NASIR------------------         NaN     242\n",
       "16  301705 NAVEED AHMED------------------         NaN     217\n",
       "17  301712 MUHAMMAD AHMED----------------         NaN     171\n",
       "18  301716 WAQAR AHMAD-------------------         NaN     217\n",
       "19  301719 ZAIGHAM ABBAS KHAN------------         NaN     171\n",
       "20  301722 ALI HAIDER--------------------         NaN  ABSENT\n",
       "21  301725 MUHAMMAD ALI------------------         NaN     381\n",
       "22  301728 MUHAMMAD PERVAIZ--------------         NaN     236\n",
       "23  301731 MUHAMMAD UMAR-----------------         NaN     286\n",
       "24  301733 AFTAB AHMAD-------------------         NaN     250\n",
       "25  301760 SHAHID KHAN-------------------         NaN     187\n",
       "26  301767 MUHAMMAD YASEEN CHATTAH-------         NaN     243\n",
       "27  301772 UMER FIAZ---------------------         NaN     172\n",
       "28  301775 ZAIN ALLAH DITTA--------------         NaN     290\n",
       "29  301778 HAROON------------------------         NaN     171\n",
       "30  301781 HUZAIFA-----------------------         NaN     198\n",
       "31  301784 JAWAD AHMAD-------------------         NaN     PHY\n",
       "32  301787 MUHAMMAD AHMAD----------------         NaN     183\n",
       "33  301790 UMAR ZIKRIA-------------------         NaN     385\n",
       "34  301814 RAB NAWAZ---------------------         NaN  ABSENT\n",
       "35  301821 SIRAT ALI---------------------         NaN     208\n",
       "36  301827 MUHAMMAD USMAN----------------         NaN     355\n",
       "37  301831 AHMAD ASLAM-------------------         NaN     285\n",
       "38  301835 HANZLA------------------------         NaN     171\n",
       "39  301839 MUHAMMAD SUFYAN---------------         NaN     257"
      ]
     },
     "execution_count": 52,
     "metadata": {},
     "output_type": "execute_result"
    }
   ],
   "source": [
    "df1"
   ]
  },
  {
   "cell_type": "code",
   "execution_count": 85,
   "id": "8ccd4429",
   "metadata": {
    "collapsed": true
   },
   "outputs": [
    {
     "name": "stderr",
     "output_type": "stream",
     "text": [
      "Error from tabula-java:\n",
      "Exception in thread \"main\" java.lang.IndexOutOfBoundsException: Page number does not exist.\n",
      "\tat technology.tabula.ObjectExtractor.extractPage(ObjectExtractor.java:19)\n",
      "\tat technology.tabula.PageIterator.next(PageIterator.java:30)\n",
      "\tat technology.tabula.CommandLineApp.extractFile(CommandLineApp.java:161)\n",
      "\tat technology.tabula.CommandLineApp.extractFileTables(CommandLineApp.java:124)\n",
      "\tat technology.tabula.CommandLineApp.extractTables(CommandLineApp.java:106)\n",
      "\tat technology.tabula.CommandLineApp.main(CommandLineApp.java:76)\n",
      "\n",
      "\n"
     ]
    },
    {
     "ename": "CalledProcessError",
     "evalue": "Command '['java', '-Djava.awt.headless=true', '-Dfile.encoding=UTF8', '-jar', '/Users/hassanazhar/anaconda3/lib/python3.11/site-packages/tabula/tabula-1.0.5-jar-with-dependencies.jar', '--pages', '103', '--guess', '--format', 'JSON', 'Resultcard.pdf']' returned non-zero exit status 1.",
     "output_type": "error",
     "traceback": [
      "\u001b[0;31m---------------------------------------------------------------------------\u001b[0m",
      "\u001b[0;31mCalledProcessError\u001b[0m                        Traceback (most recent call last)",
      "Cell \u001b[0;32mIn[85], line 1\u001b[0m\n\u001b[0;32m----> 1\u001b[0m tables \u001b[38;5;241m=\u001b[39m tabula\u001b[38;5;241m.\u001b[39mread_pdf(\u001b[38;5;124m'\u001b[39m\u001b[38;5;124mResultcard.pdf\u001b[39m\u001b[38;5;124m'\u001b[39m, pages\u001b[38;5;241m=\u001b[39m\u001b[38;5;124m'\u001b[39m\u001b[38;5;124m103\u001b[39m\u001b[38;5;124m'\u001b[39m, multiple_tables\u001b[38;5;241m=\u001b[39m\u001b[38;5;28;01mTrue\u001b[39;00m)\n",
      "File \u001b[0;32m~/anaconda3/lib/python3.11/site-packages/tabula/io.py:395\u001b[0m, in \u001b[0;36mread_pdf\u001b[0;34m(input_path, output_format, encoding, java_options, pandas_options, multiple_tables, user_agent, use_raw_url, pages, guess, area, relative_area, lattice, stream, password, silent, columns, relative_columns, format, batch, output_path, force_subprocess, options)\u001b[0m\n\u001b[1;32m    392\u001b[0m     \u001b[38;5;28;01mraise\u001b[39;00m \u001b[38;5;167;01mValueError\u001b[39;00m(\u001b[38;5;124mf\u001b[39m\u001b[38;5;124m\"\u001b[39m\u001b[38;5;132;01m{\u001b[39;00mpath\u001b[38;5;132;01m}\u001b[39;00m\u001b[38;5;124m is empty. Check the file, or download it manually.\u001b[39m\u001b[38;5;124m\"\u001b[39m)\n\u001b[1;32m    394\u001b[0m \u001b[38;5;28;01mtry\u001b[39;00m:\n\u001b[0;32m--> 395\u001b[0m     output \u001b[38;5;241m=\u001b[39m _run(\n\u001b[1;32m    396\u001b[0m         tabula_options,\n\u001b[1;32m    397\u001b[0m         java_options,\n\u001b[1;32m    398\u001b[0m         path,\n\u001b[1;32m    399\u001b[0m         encoding\u001b[38;5;241m=\u001b[39mencoding,\n\u001b[1;32m    400\u001b[0m         force_subprocess\u001b[38;5;241m=\u001b[39mforce_subprocess,\n\u001b[1;32m    401\u001b[0m     )\n\u001b[1;32m    402\u001b[0m \u001b[38;5;28;01mfinally\u001b[39;00m:\n\u001b[1;32m    403\u001b[0m     \u001b[38;5;28;01mif\u001b[39;00m temporary:\n",
      "File \u001b[0;32m~/anaconda3/lib/python3.11/site-packages/tabula/io.py:82\u001b[0m, in \u001b[0;36m_run\u001b[0;34m(options, java_options, path, encoding, force_subprocess)\u001b[0m\n\u001b[1;32m     79\u001b[0m \u001b[38;5;28;01melif\u001b[39;00m \u001b[38;5;28mset\u001b[39m(java_options) \u001b[38;5;241m-\u001b[39m IGNORED_JAVA_OPTIONS:\n\u001b[1;32m     80\u001b[0m     logger\u001b[38;5;241m.\u001b[39mwarning(\u001b[38;5;124m\"\u001b[39m\u001b[38;5;124mjava_options is ignored until rebooting the Python process.\u001b[39m\u001b[38;5;124m\"\u001b[39m)\n\u001b[0;32m---> 82\u001b[0m \u001b[38;5;28;01mreturn\u001b[39;00m _tabula_vm\u001b[38;5;241m.\u001b[39mcall_tabula_java(options, path)\n",
      "File \u001b[0;32m~/anaconda3/lib/python3.11/site-packages/tabula/backend.py:108\u001b[0m, in \u001b[0;36mSubprocessTabula.call_tabula_java\u001b[0;34m(self, options, path)\u001b[0m\n\u001b[1;32m    105\u001b[0m     args\u001b[38;5;241m.\u001b[39mappend(path)\n\u001b[1;32m    107\u001b[0m \u001b[38;5;28;01mtry\u001b[39;00m:\n\u001b[0;32m--> 108\u001b[0m     result \u001b[38;5;241m=\u001b[39m subprocess\u001b[38;5;241m.\u001b[39mrun(\n\u001b[1;32m    109\u001b[0m         args,\n\u001b[1;32m    110\u001b[0m         stdout\u001b[38;5;241m=\u001b[39msubprocess\u001b[38;5;241m.\u001b[39mPIPE,\n\u001b[1;32m    111\u001b[0m         stderr\u001b[38;5;241m=\u001b[39msubprocess\u001b[38;5;241m.\u001b[39mPIPE,\n\u001b[1;32m    112\u001b[0m         stdin\u001b[38;5;241m=\u001b[39msubprocess\u001b[38;5;241m.\u001b[39mDEVNULL,\n\u001b[1;32m    113\u001b[0m         check\u001b[38;5;241m=\u001b[39m\u001b[38;5;28;01mTrue\u001b[39;00m,\n\u001b[1;32m    114\u001b[0m     )\n\u001b[1;32m    115\u001b[0m     \u001b[38;5;28;01mif\u001b[39;00m result\u001b[38;5;241m.\u001b[39mstderr:\n\u001b[1;32m    116\u001b[0m         logger\u001b[38;5;241m.\u001b[39mwarning(\u001b[38;5;124mf\u001b[39m\u001b[38;5;124m\"\u001b[39m\u001b[38;5;124mGot stderr: \u001b[39m\u001b[38;5;132;01m{\u001b[39;00mresult\u001b[38;5;241m.\u001b[39mstderr\u001b[38;5;241m.\u001b[39mdecode(\u001b[38;5;28mself\u001b[39m\u001b[38;5;241m.\u001b[39mencoding)\u001b[38;5;132;01m}\u001b[39;00m\u001b[38;5;124m\"\u001b[39m)\n",
      "File \u001b[0;32m~/anaconda3/lib/python3.11/subprocess.py:571\u001b[0m, in \u001b[0;36mrun\u001b[0;34m(input, capture_output, timeout, check, *popenargs, **kwargs)\u001b[0m\n\u001b[1;32m    569\u001b[0m     retcode \u001b[38;5;241m=\u001b[39m process\u001b[38;5;241m.\u001b[39mpoll()\n\u001b[1;32m    570\u001b[0m     \u001b[38;5;28;01mif\u001b[39;00m check \u001b[38;5;129;01mand\u001b[39;00m retcode:\n\u001b[0;32m--> 571\u001b[0m         \u001b[38;5;28;01mraise\u001b[39;00m CalledProcessError(retcode, process\u001b[38;5;241m.\u001b[39margs,\n\u001b[1;32m    572\u001b[0m                                  output\u001b[38;5;241m=\u001b[39mstdout, stderr\u001b[38;5;241m=\u001b[39mstderr)\n\u001b[1;32m    573\u001b[0m \u001b[38;5;28;01mreturn\u001b[39;00m CompletedProcess(process\u001b[38;5;241m.\u001b[39margs, retcode, stdout, stderr)\n",
      "\u001b[0;31mCalledProcessError\u001b[0m: Command '['java', '-Djava.awt.headless=true', '-Dfile.encoding=UTF8', '-jar', '/Users/hassanazhar/anaconda3/lib/python3.11/site-packages/tabula/tabula-1.0.5-jar-with-dependencies.jar', '--pages', '103', '--guess', '--format', 'JSON', 'Resultcard.pdf']' returned non-zero exit status 1."
     ]
    }
   ],
   "source": [
    "tables = tabula.read_pdf('Resultcard.pdf', pages='103', multiple_tables=True)"
   ]
  },
  {
   "cell_type": "code",
   "execution_count": 4,
   "id": "cc1af8dd",
   "metadata": {},
   "outputs": [],
   "source": [
    "from pdf2image import convert_from_path"
   ]
  },
  {
   "cell_type": "code",
   "execution_count": 5,
   "id": "7366b47c",
   "metadata": {},
   "outputs": [],
   "source": [
    "pdf_file = 'Resultcard.pdf'"
   ]
  },
  {
   "cell_type": "code",
   "execution_count": 6,
   "id": "7b365151",
   "metadata": {
    "collapsed": true
   },
   "outputs": [
    {
     "ename": "PDFInfoNotInstalledError",
     "evalue": "Unable to get page count. Is poppler installed and in PATH?",
     "output_type": "error",
     "traceback": [
      "\u001b[0;31m---------------------------------------------------------------------------\u001b[0m",
      "\u001b[0;31mFileNotFoundError\u001b[0m                         Traceback (most recent call last)",
      "File \u001b[0;32m~/anaconda3/lib/python3.11/site-packages/pdf2image/pdf2image.py:581\u001b[0m, in \u001b[0;36mpdfinfo_from_path\u001b[0;34m(pdf_path, userpw, ownerpw, poppler_path, rawdates, timeout, first_page, last_page)\u001b[0m\n\u001b[1;32m    580\u001b[0m     env[\u001b[38;5;124m\"\u001b[39m\u001b[38;5;124mLD_LIBRARY_PATH\u001b[39m\u001b[38;5;124m\"\u001b[39m] \u001b[38;5;241m=\u001b[39m poppler_path \u001b[38;5;241m+\u001b[39m \u001b[38;5;124m\"\u001b[39m\u001b[38;5;124m:\u001b[39m\u001b[38;5;124m\"\u001b[39m \u001b[38;5;241m+\u001b[39m env\u001b[38;5;241m.\u001b[39mget(\u001b[38;5;124m\"\u001b[39m\u001b[38;5;124mLD_LIBRARY_PATH\u001b[39m\u001b[38;5;124m\"\u001b[39m, \u001b[38;5;124m\"\u001b[39m\u001b[38;5;124m\"\u001b[39m)\n\u001b[0;32m--> 581\u001b[0m proc \u001b[38;5;241m=\u001b[39m Popen(command, env\u001b[38;5;241m=\u001b[39menv, stdout\u001b[38;5;241m=\u001b[39mPIPE, stderr\u001b[38;5;241m=\u001b[39mPIPE)\n\u001b[1;32m    583\u001b[0m \u001b[38;5;28;01mtry\u001b[39;00m:\n",
      "File \u001b[0;32m~/anaconda3/lib/python3.11/subprocess.py:1024\u001b[0m, in \u001b[0;36mPopen.__init__\u001b[0;34m(self, args, bufsize, executable, stdin, stdout, stderr, preexec_fn, close_fds, shell, cwd, env, universal_newlines, startupinfo, creationflags, restore_signals, start_new_session, pass_fds, user, group, extra_groups, encoding, errors, text, umask, pipesize, process_group)\u001b[0m\n\u001b[1;32m   1021\u001b[0m             \u001b[38;5;28mself\u001b[39m\u001b[38;5;241m.\u001b[39mstderr \u001b[38;5;241m=\u001b[39m io\u001b[38;5;241m.\u001b[39mTextIOWrapper(\u001b[38;5;28mself\u001b[39m\u001b[38;5;241m.\u001b[39mstderr,\n\u001b[1;32m   1022\u001b[0m                     encoding\u001b[38;5;241m=\u001b[39mencoding, errors\u001b[38;5;241m=\u001b[39merrors)\n\u001b[0;32m-> 1024\u001b[0m     \u001b[38;5;28mself\u001b[39m\u001b[38;5;241m.\u001b[39m_execute_child(args, executable, preexec_fn, close_fds,\n\u001b[1;32m   1025\u001b[0m                         pass_fds, cwd, env,\n\u001b[1;32m   1026\u001b[0m                         startupinfo, creationflags, shell,\n\u001b[1;32m   1027\u001b[0m                         p2cread, p2cwrite,\n\u001b[1;32m   1028\u001b[0m                         c2pread, c2pwrite,\n\u001b[1;32m   1029\u001b[0m                         errread, errwrite,\n\u001b[1;32m   1030\u001b[0m                         restore_signals,\n\u001b[1;32m   1031\u001b[0m                         gid, gids, uid, umask,\n\u001b[1;32m   1032\u001b[0m                         start_new_session, process_group)\n\u001b[1;32m   1033\u001b[0m \u001b[38;5;28;01mexcept\u001b[39;00m:\n\u001b[1;32m   1034\u001b[0m     \u001b[38;5;66;03m# Cleanup if the child failed starting.\u001b[39;00m\n",
      "File \u001b[0;32m~/anaconda3/lib/python3.11/subprocess.py:1917\u001b[0m, in \u001b[0;36mPopen._execute_child\u001b[0;34m(self, args, executable, preexec_fn, close_fds, pass_fds, cwd, env, startupinfo, creationflags, shell, p2cread, p2cwrite, c2pread, c2pwrite, errread, errwrite, restore_signals, gid, gids, uid, umask, start_new_session, process_group)\u001b[0m\n\u001b[1;32m   1916\u001b[0m         err_msg \u001b[38;5;241m=\u001b[39m os\u001b[38;5;241m.\u001b[39mstrerror(errno_num)\n\u001b[0;32m-> 1917\u001b[0m     \u001b[38;5;28;01mraise\u001b[39;00m child_exception_type(errno_num, err_msg, err_filename)\n\u001b[1;32m   1918\u001b[0m \u001b[38;5;28;01mraise\u001b[39;00m child_exception_type(err_msg)\n",
      "\u001b[0;31mFileNotFoundError\u001b[0m: [Errno 2] No such file or directory: 'pdfinfo'",
      "\nDuring handling of the above exception, another exception occurred:\n",
      "\u001b[0;31mPDFInfoNotInstalledError\u001b[0m                  Traceback (most recent call last)",
      "Cell \u001b[0;32mIn[6], line 1\u001b[0m\n\u001b[0;32m----> 1\u001b[0m images \u001b[38;5;241m=\u001b[39m convert_from_path(pdf_file)\n",
      "File \u001b[0;32m~/anaconda3/lib/python3.11/site-packages/pdf2image/pdf2image.py:127\u001b[0m, in \u001b[0;36mconvert_from_path\u001b[0;34m(pdf_path, dpi, output_folder, first_page, last_page, fmt, jpegopt, thread_count, userpw, ownerpw, use_cropbox, strict, transparent, single_file, output_file, poppler_path, grayscale, size, paths_only, use_pdftocairo, timeout, hide_annotations)\u001b[0m\n\u001b[1;32m    124\u001b[0m \u001b[38;5;28;01mif\u001b[39;00m \u001b[38;5;28misinstance\u001b[39m(poppler_path, PurePath):\n\u001b[1;32m    125\u001b[0m     poppler_path \u001b[38;5;241m=\u001b[39m poppler_path\u001b[38;5;241m.\u001b[39mas_posix()\n\u001b[0;32m--> 127\u001b[0m page_count \u001b[38;5;241m=\u001b[39m pdfinfo_from_path(\n\u001b[1;32m    128\u001b[0m     pdf_path, userpw, ownerpw, poppler_path\u001b[38;5;241m=\u001b[39mpoppler_path\n\u001b[1;32m    129\u001b[0m )[\u001b[38;5;124m\"\u001b[39m\u001b[38;5;124mPages\u001b[39m\u001b[38;5;124m\"\u001b[39m]\n\u001b[1;32m    131\u001b[0m \u001b[38;5;66;03m# We start by getting the output format, the buffer processing function and if we need pdftocairo\u001b[39;00m\n\u001b[1;32m    132\u001b[0m parsed_fmt, final_extension, parse_buffer_func, use_pdfcairo_format \u001b[38;5;241m=\u001b[39m _parse_format(\n\u001b[1;32m    133\u001b[0m     fmt, grayscale\n\u001b[1;32m    134\u001b[0m )\n",
      "File \u001b[0;32m~/anaconda3/lib/python3.11/site-packages/pdf2image/pdf2image.py:607\u001b[0m, in \u001b[0;36mpdfinfo_from_path\u001b[0;34m(pdf_path, userpw, ownerpw, poppler_path, rawdates, timeout, first_page, last_page)\u001b[0m\n\u001b[1;32m    604\u001b[0m     \u001b[38;5;28;01mreturn\u001b[39;00m d\n\u001b[1;32m    606\u001b[0m \u001b[38;5;28;01mexcept\u001b[39;00m \u001b[38;5;167;01mOSError\u001b[39;00m:\n\u001b[0;32m--> 607\u001b[0m     \u001b[38;5;28;01mraise\u001b[39;00m PDFInfoNotInstalledError(\n\u001b[1;32m    608\u001b[0m         \u001b[38;5;124m\"\u001b[39m\u001b[38;5;124mUnable to get page count. Is poppler installed and in PATH?\u001b[39m\u001b[38;5;124m\"\u001b[39m\n\u001b[1;32m    609\u001b[0m     )\n\u001b[1;32m    610\u001b[0m \u001b[38;5;28;01mexcept\u001b[39;00m \u001b[38;5;167;01mValueError\u001b[39;00m:\n\u001b[1;32m    611\u001b[0m     \u001b[38;5;28;01mraise\u001b[39;00m PDFPageCountError(\n\u001b[1;32m    612\u001b[0m         \u001b[38;5;124mf\u001b[39m\u001b[38;5;124m\"\u001b[39m\u001b[38;5;124mUnable to get page count.\u001b[39m\u001b[38;5;130;01m\\n\u001b[39;00m\u001b[38;5;132;01m{\u001b[39;00merr\u001b[38;5;241m.\u001b[39mdecode(\u001b[38;5;124m'\u001b[39m\u001b[38;5;124mutf8\u001b[39m\u001b[38;5;124m'\u001b[39m,\u001b[38;5;250m \u001b[39m\u001b[38;5;124m'\u001b[39m\u001b[38;5;124mignore\u001b[39m\u001b[38;5;124m'\u001b[39m)\u001b[38;5;132;01m}\u001b[39;00m\u001b[38;5;124m\"\u001b[39m\n\u001b[1;32m    613\u001b[0m     )\n",
      "\u001b[0;31mPDFInfoNotInstalledError\u001b[0m: Unable to get page count. Is poppler installed and in PATH?"
     ]
    }
   ],
   "source": [
    "images = convert_from_path(pdf_file)"
   ]
  },
  {
   "cell_type": "code",
   "execution_count": 3,
   "id": "ae7be1b1",
   "metadata": {
    "collapsed": true
   },
   "outputs": [
    {
     "ename": "PDFInfoNotInstalledError",
     "evalue": "Unable to get page count. Is poppler installed and in PATH?",
     "output_type": "error",
     "traceback": [
      "\u001b[0;31m---------------------------------------------------------------------------\u001b[0m",
      "\u001b[0;31mFileNotFoundError\u001b[0m                         Traceback (most recent call last)",
      "File \u001b[0;32m~/anaconda3/lib/python3.11/site-packages/pdf2image/pdf2image.py:581\u001b[0m, in \u001b[0;36mpdfinfo_from_path\u001b[0;34m(pdf_path, userpw, ownerpw, poppler_path, rawdates, timeout, first_page, last_page)\u001b[0m\n\u001b[1;32m    580\u001b[0m     env[\u001b[38;5;124m\"\u001b[39m\u001b[38;5;124mLD_LIBRARY_PATH\u001b[39m\u001b[38;5;124m\"\u001b[39m] \u001b[38;5;241m=\u001b[39m poppler_path \u001b[38;5;241m+\u001b[39m \u001b[38;5;124m\"\u001b[39m\u001b[38;5;124m:\u001b[39m\u001b[38;5;124m\"\u001b[39m \u001b[38;5;241m+\u001b[39m env\u001b[38;5;241m.\u001b[39mget(\u001b[38;5;124m\"\u001b[39m\u001b[38;5;124mLD_LIBRARY_PATH\u001b[39m\u001b[38;5;124m\"\u001b[39m, \u001b[38;5;124m\"\u001b[39m\u001b[38;5;124m\"\u001b[39m)\n\u001b[0;32m--> 581\u001b[0m proc \u001b[38;5;241m=\u001b[39m Popen(command, env\u001b[38;5;241m=\u001b[39menv, stdout\u001b[38;5;241m=\u001b[39mPIPE, stderr\u001b[38;5;241m=\u001b[39mPIPE)\n\u001b[1;32m    583\u001b[0m \u001b[38;5;28;01mtry\u001b[39;00m:\n",
      "File \u001b[0;32m~/anaconda3/lib/python3.11/subprocess.py:1024\u001b[0m, in \u001b[0;36mPopen.__init__\u001b[0;34m(self, args, bufsize, executable, stdin, stdout, stderr, preexec_fn, close_fds, shell, cwd, env, universal_newlines, startupinfo, creationflags, restore_signals, start_new_session, pass_fds, user, group, extra_groups, encoding, errors, text, umask, pipesize, process_group)\u001b[0m\n\u001b[1;32m   1021\u001b[0m             \u001b[38;5;28mself\u001b[39m\u001b[38;5;241m.\u001b[39mstderr \u001b[38;5;241m=\u001b[39m io\u001b[38;5;241m.\u001b[39mTextIOWrapper(\u001b[38;5;28mself\u001b[39m\u001b[38;5;241m.\u001b[39mstderr,\n\u001b[1;32m   1022\u001b[0m                     encoding\u001b[38;5;241m=\u001b[39mencoding, errors\u001b[38;5;241m=\u001b[39merrors)\n\u001b[0;32m-> 1024\u001b[0m     \u001b[38;5;28mself\u001b[39m\u001b[38;5;241m.\u001b[39m_execute_child(args, executable, preexec_fn, close_fds,\n\u001b[1;32m   1025\u001b[0m                         pass_fds, cwd, env,\n\u001b[1;32m   1026\u001b[0m                         startupinfo, creationflags, shell,\n\u001b[1;32m   1027\u001b[0m                         p2cread, p2cwrite,\n\u001b[1;32m   1028\u001b[0m                         c2pread, c2pwrite,\n\u001b[1;32m   1029\u001b[0m                         errread, errwrite,\n\u001b[1;32m   1030\u001b[0m                         restore_signals,\n\u001b[1;32m   1031\u001b[0m                         gid, gids, uid, umask,\n\u001b[1;32m   1032\u001b[0m                         start_new_session, process_group)\n\u001b[1;32m   1033\u001b[0m \u001b[38;5;28;01mexcept\u001b[39;00m:\n\u001b[1;32m   1034\u001b[0m     \u001b[38;5;66;03m# Cleanup if the child failed starting.\u001b[39;00m\n",
      "File \u001b[0;32m~/anaconda3/lib/python3.11/subprocess.py:1917\u001b[0m, in \u001b[0;36mPopen._execute_child\u001b[0;34m(self, args, executable, preexec_fn, close_fds, pass_fds, cwd, env, startupinfo, creationflags, shell, p2cread, p2cwrite, c2pread, c2pwrite, errread, errwrite, restore_signals, gid, gids, uid, umask, start_new_session, process_group)\u001b[0m\n\u001b[1;32m   1916\u001b[0m         err_msg \u001b[38;5;241m=\u001b[39m os\u001b[38;5;241m.\u001b[39mstrerror(errno_num)\n\u001b[0;32m-> 1917\u001b[0m     \u001b[38;5;28;01mraise\u001b[39;00m child_exception_type(errno_num, err_msg, err_filename)\n\u001b[1;32m   1918\u001b[0m \u001b[38;5;28;01mraise\u001b[39;00m child_exception_type(err_msg)\n",
      "\u001b[0;31mFileNotFoundError\u001b[0m: [Errno 2] No such file or directory: 'pdfinfo'",
      "\nDuring handling of the above exception, another exception occurred:\n",
      "\u001b[0;31mPDFInfoNotInstalledError\u001b[0m                  Traceback (most recent call last)",
      "Cell \u001b[0;32mIn[3], line 7\u001b[0m\n\u001b[1;32m      4\u001b[0m pdf_file \u001b[38;5;241m=\u001b[39m \u001b[38;5;124m'\u001b[39m\u001b[38;5;124mResultcard.pdf\u001b[39m\u001b[38;5;124m'\u001b[39m\n\u001b[1;32m      6\u001b[0m \u001b[38;5;66;03m# Convert PDF to image (JPEG format by default)\u001b[39;00m\n\u001b[0;32m----> 7\u001b[0m images \u001b[38;5;241m=\u001b[39m convert_from_path(pdf_file)\n\u001b[1;32m      9\u001b[0m \u001b[38;5;66;03m# Save each page as an image\u001b[39;00m\n\u001b[1;32m     10\u001b[0m \u001b[38;5;28;01mfor\u001b[39;00m i, image \u001b[38;5;129;01min\u001b[39;00m \u001b[38;5;28menumerate\u001b[39m(images):\n",
      "File \u001b[0;32m~/anaconda3/lib/python3.11/site-packages/pdf2image/pdf2image.py:127\u001b[0m, in \u001b[0;36mconvert_from_path\u001b[0;34m(pdf_path, dpi, output_folder, first_page, last_page, fmt, jpegopt, thread_count, userpw, ownerpw, use_cropbox, strict, transparent, single_file, output_file, poppler_path, grayscale, size, paths_only, use_pdftocairo, timeout, hide_annotations)\u001b[0m\n\u001b[1;32m    124\u001b[0m \u001b[38;5;28;01mif\u001b[39;00m \u001b[38;5;28misinstance\u001b[39m(poppler_path, PurePath):\n\u001b[1;32m    125\u001b[0m     poppler_path \u001b[38;5;241m=\u001b[39m poppler_path\u001b[38;5;241m.\u001b[39mas_posix()\n\u001b[0;32m--> 127\u001b[0m page_count \u001b[38;5;241m=\u001b[39m pdfinfo_from_path(\n\u001b[1;32m    128\u001b[0m     pdf_path, userpw, ownerpw, poppler_path\u001b[38;5;241m=\u001b[39mpoppler_path\n\u001b[1;32m    129\u001b[0m )[\u001b[38;5;124m\"\u001b[39m\u001b[38;5;124mPages\u001b[39m\u001b[38;5;124m\"\u001b[39m]\n\u001b[1;32m    131\u001b[0m \u001b[38;5;66;03m# We start by getting the output format, the buffer processing function and if we need pdftocairo\u001b[39;00m\n\u001b[1;32m    132\u001b[0m parsed_fmt, final_extension, parse_buffer_func, use_pdfcairo_format \u001b[38;5;241m=\u001b[39m _parse_format(\n\u001b[1;32m    133\u001b[0m     fmt, grayscale\n\u001b[1;32m    134\u001b[0m )\n",
      "File \u001b[0;32m~/anaconda3/lib/python3.11/site-packages/pdf2image/pdf2image.py:607\u001b[0m, in \u001b[0;36mpdfinfo_from_path\u001b[0;34m(pdf_path, userpw, ownerpw, poppler_path, rawdates, timeout, first_page, last_page)\u001b[0m\n\u001b[1;32m    604\u001b[0m     \u001b[38;5;28;01mreturn\u001b[39;00m d\n\u001b[1;32m    606\u001b[0m \u001b[38;5;28;01mexcept\u001b[39;00m \u001b[38;5;167;01mOSError\u001b[39;00m:\n\u001b[0;32m--> 607\u001b[0m     \u001b[38;5;28;01mraise\u001b[39;00m PDFInfoNotInstalledError(\n\u001b[1;32m    608\u001b[0m         \u001b[38;5;124m\"\u001b[39m\u001b[38;5;124mUnable to get page count. Is poppler installed and in PATH?\u001b[39m\u001b[38;5;124m\"\u001b[39m\n\u001b[1;32m    609\u001b[0m     )\n\u001b[1;32m    610\u001b[0m \u001b[38;5;28;01mexcept\u001b[39;00m \u001b[38;5;167;01mValueError\u001b[39;00m:\n\u001b[1;32m    611\u001b[0m     \u001b[38;5;28;01mraise\u001b[39;00m PDFPageCountError(\n\u001b[1;32m    612\u001b[0m         \u001b[38;5;124mf\u001b[39m\u001b[38;5;124m\"\u001b[39m\u001b[38;5;124mUnable to get page count.\u001b[39m\u001b[38;5;130;01m\\n\u001b[39;00m\u001b[38;5;132;01m{\u001b[39;00merr\u001b[38;5;241m.\u001b[39mdecode(\u001b[38;5;124m'\u001b[39m\u001b[38;5;124mutf8\u001b[39m\u001b[38;5;124m'\u001b[39m,\u001b[38;5;250m \u001b[39m\u001b[38;5;124m'\u001b[39m\u001b[38;5;124mignore\u001b[39m\u001b[38;5;124m'\u001b[39m)\u001b[38;5;132;01m}\u001b[39;00m\u001b[38;5;124m\"\u001b[39m\n\u001b[1;32m    613\u001b[0m     )\n",
      "\u001b[0;31mPDFInfoNotInstalledError\u001b[0m: Unable to get page count. Is poppler installed and in PATH?"
     ]
    }
   ],
   "source": [
    "# Save each page as an image\n",
    "for i, image in enumerate(images):\n",
    "    image.save(f'page_{i+1}.jpg', 'JPEG')"
   ]
  },
  {
   "cell_type": "code",
   "execution_count": 10,
   "id": "dd51e756",
   "metadata": {},
   "outputs": [],
   "source": [
    "from PIL import Image\n",
    "import pytesseract"
   ]
  },
  {
   "cell_type": "code",
   "execution_count": 17,
   "id": "5ee2fbcd",
   "metadata": {},
   "outputs": [],
   "source": [
    "image_file = 'img/page_1.jpg'"
   ]
  },
  {
   "cell_type": "code",
   "execution_count": 18,
   "id": "1e37fb74",
   "metadata": {},
   "outputs": [],
   "source": [
    "image = Image.open(image_file)"
   ]
  },
  {
   "cell_type": "code",
   "execution_count": 19,
   "id": "517f2475",
   "metadata": {},
   "outputs": [],
   "source": [
    "extracted_text = pytesseract.image_to_string(image)"
   ]
  },
  {
   "cell_type": "code",
   "execution_count": 20,
   "id": "01bc25be",
   "metadata": {},
   "outputs": [
    {
     "data": {
      "text/plain": [
       "\"Board of Intermediate & Secondary Education, Gujranwala\\n\\nINTERMEDIATE (PART-1) ANNUAL EXAMINATION, 2021\\n\\nPROVISIONAL RESULT INTIMATION\\n\\nRoll No 328356 Registration No: 2-2-6028569-20\\nName: MOMNA RASHEED Form No.: 2620020039\\nFather's Name: ABDUL RASHEED Bind-Se-No,: 30050837\\n\\nCollege: 262002-GOVT. COLLEGE FOR WOMEN, HAIPURA, SIALKOT\\n\\n‘The candidate has pased and obtained marks: One Hundred Eighty-One Only\\n\\n“The marks awarded are the bes prediction ofthe performance and hasbeen awarded under COVID-19 Ecaminations Potcy,\\n‘hence considered as vai and fat.”\\n\\n‘stdout gue isiedprvsonay errand nisin excepted as ote ny. Any ney appearing ati ntiestion dost in sl\\nafer ay ight or ptsege on candor the rant of erileat Wh wb sued unde thereat onthe bas fhe egal\\nead fthe oar offen\\n\\nox eteking yuan apply within 20 dys.aterreudactartion at,\\n\\n‘a Case of any ony ltd oes contacto Boar Offic GHULAM ABBAS,\\n\\n1tisan electronically generated provisional result intimation so there sno need fr signature\\n\\n‘CONTROLLER OF EXAMINATIONS\\n\""
      ]
     },
     "execution_count": 20,
     "metadata": {},
     "output_type": "execute_result"
    }
   ],
   "source": [
    "extracted_text"
   ]
  },
  {
   "cell_type": "code",
   "execution_count": 7,
   "id": "77fe7fa1",
   "metadata": {
    "collapsed": true
   },
   "outputs": [
    {
     "name": "stdout",
     "output_type": "stream",
     "text": [
      "Collecting PyMuPDF\n",
      "  Downloading PyMuPDF-1.24.2-cp311-none-macosx_10_9_x86_64.whl.metadata (3.4 kB)\n",
      "Collecting PyMuPDFb==1.24.1 (from PyMuPDF)\n",
      "  Downloading PyMuPDFb-1.24.1-py3-none-macosx_10_9_x86_64.whl.metadata (1.4 kB)\n",
      "Downloading PyMuPDF-1.24.2-cp311-none-macosx_10_9_x86_64.whl (3.2 MB)\n",
      "\u001b[2K   \u001b[90m━━━━━━━━━━━━━━━━━━━━━━━━━━━━━━━━━━━━━━━━\u001b[0m \u001b[32m3.2/3.2 MB\u001b[0m \u001b[31m992.3 kB/s\u001b[0m eta \u001b[36m0:00:00\u001b[0m00:01\u001b[0m:01\u001b[0m0m\n",
      "\u001b[?25hDownloading PyMuPDFb-1.24.1-py3-none-macosx_10_9_x86_64.whl (30.3 MB)\n",
      "\u001b[2K   \u001b[90m━━━━━━━━━━━━━━━━━━━━━━━━━━━━━━━━━━━━━━━━\u001b[0m \u001b[32m30.3/30.3 MB\u001b[0m \u001b[31m771.9 kB/s\u001b[0m eta \u001b[36m0:00:00\u001b[0m00:01\u001b[0m00:01\u001b[0m\n",
      "\u001b[?25hInstalling collected packages: PyMuPDFb, PyMuPDF\n",
      "Successfully installed PyMuPDF-1.24.2 PyMuPDFb-1.24.1\n",
      "Note: you may need to restart the kernel to use updated packages.\n"
     ]
    }
   ],
   "source": [
    "pip install PyMuPDF"
   ]
  },
  {
   "cell_type": "code",
   "execution_count": 16,
   "id": "fab4d4c5",
   "metadata": {},
   "outputs": [],
   "source": [
    "import fitz  # PyMuPDF\n",
    "\n",
    "def pdf_to_images(pdf_file, output_folder):\n",
    "    # Open the PDF file\n",
    "    pdf_document = fitz.open(pdf_file)\n",
    "\n",
    "    # Iterate through each page and convert it to an image\n",
    "    for page_number in range(len(pdf_document)):\n",
    "        page = pdf_document[page_number]\n",
    "        image = page.get_pixmap()\n",
    "        image_path = f'{output_folder}/page_{page_number + 1}.jpg'\n",
    "        image.save(image_path)\n",
    "\n",
    "    # Close the PDF file\n",
    "    pdf_document.close()\n",
    "\n",
    "# Example usage\n",
    "pdf_file = 'Resultcard.pdf'\n",
    "output_folder = 'img'\n",
    "pdf_to_images(pdf_file, output_folder)"
   ]
  },
  {
   "cell_type": "code",
   "execution_count": 25,
   "id": "98d56557",
   "metadata": {},
   "outputs": [],
   "source": [
    "import cv2\n",
    "import pytesseract\n",
    "import numpy as np\n",
    "\n",
    "def extract_table_from_image(image_path):\n",
    "    # Load the image using OpenCV\n",
    "    image = cv2.imread(image_path)\n",
    "\n",
    "    # Convert the image to grayscale\n",
    "    gray_image = cv2.cvtColor(image, cv2.COLOR_BGR2GRAY)\n",
    "\n",
    "    # Apply thresholding to get a binary image\n",
    "    _, binary_image = cv2.threshold(gray_image, 0, 255, cv2.THRESH_BINARY + cv2.THRESH_OTSU)\n",
    "\n",
    "    # Perform morphological operations to enhance the table structure\n",
    "    kernel = np.ones((3, 3), np.uint8)\n",
    "    morph_image = cv2.morphologyEx(binary_image, cv2.MORPH_CLOSE, kernel)\n",
    "\n",
    "    # Use Tesseract OCR to extract text from the image\n",
    "    extracted_text = pytesseract.image_to_string(morph_image)\n",
    "\n",
    "    return extracted_text\n",
    "\n",
    "# Example usage\n",
    "image_path = 'img/page_1.png'\n",
    "table_text = extract_table_from_image(image_path)"
   ]
  },
  {
   "cell_type": "code",
   "execution_count": 26,
   "id": "65259410",
   "metadata": {},
   "outputs": [
    {
     "data": {
      "text/plain": [
       "''"
      ]
     },
     "execution_count": 26,
     "metadata": {},
     "output_type": "execute_result"
    }
   ],
   "source": [
    "table_text"
   ]
  },
  {
   "cell_type": "code",
   "execution_count": 27,
   "id": "b0b188be",
   "metadata": {
    "collapsed": true
   },
   "outputs": [
    {
     "name": "stdout",
     "output_type": "stream",
     "text": [
      "Collecting inflect\n",
      "  Downloading inflect-7.2.1-py3-none-any.whl.metadata (21 kB)\n",
      "Requirement already satisfied: more-itertools in /Users/hassanazhar/anaconda3/lib/python3.11/site-packages (from inflect) (8.12.0)\n",
      "Requirement already satisfied: typeguard>=4.0.1 in /Users/hassanazhar/anaconda3/lib/python3.11/site-packages (from inflect) (4.1.5)\n",
      "Requirement already satisfied: typing-extensions in /Users/hassanazhar/anaconda3/lib/python3.11/site-packages (from inflect) (4.9.0)\n",
      "Downloading inflect-7.2.1-py3-none-any.whl (34 kB)\n",
      "Installing collected packages: inflect\n",
      "Successfully installed inflect-7.2.1\n",
      "Note: you may need to restart the kernel to use updated packages.\n"
     ]
    }
   ],
   "source": [
    "pip install inflect"
   ]
  },
  {
   "cell_type": "code",
   "execution_count": 28,
   "id": "4ba3b6c6",
   "metadata": {},
   "outputs": [
    {
     "ename": "AttributeError",
     "evalue": "'engine' object has no attribute 'word_to_number'",
     "output_type": "error",
     "traceback": [
      "\u001b[0;31m---------------------------------------------------------------------------\u001b[0m",
      "\u001b[0;31mAttributeError\u001b[0m                            Traceback (most recent call last)",
      "Cell \u001b[0;32mIn[28], line 15\u001b[0m\n\u001b[1;32m     13\u001b[0m \u001b[38;5;66;03m# Example usage\u001b[39;00m\n\u001b[1;32m     14\u001b[0m text_count \u001b[38;5;241m=\u001b[39m \u001b[38;5;124m'\u001b[39m\u001b[38;5;124mOne Hundred Eighty-One\u001b[39m\u001b[38;5;124m'\u001b[39m\n\u001b[0;32m---> 15\u001b[0m number \u001b[38;5;241m=\u001b[39m text_count_to_number(text_count)\n\u001b[1;32m     16\u001b[0m \u001b[38;5;28;01mif\u001b[39;00m number \u001b[38;5;129;01mis\u001b[39;00m \u001b[38;5;129;01mnot\u001b[39;00m \u001b[38;5;28;01mNone\u001b[39;00m:\n\u001b[1;32m     17\u001b[0m     \u001b[38;5;28mprint\u001b[39m(\u001b[38;5;124mf\u001b[39m\u001b[38;5;124m'\u001b[39m\u001b[38;5;124mTextual count \u001b[39m\u001b[38;5;124m\"\u001b[39m\u001b[38;5;132;01m{\u001b[39;00mtext_count\u001b[38;5;132;01m}\u001b[39;00m\u001b[38;5;124m\"\u001b[39m\u001b[38;5;124m is equivalent to \u001b[39m\u001b[38;5;132;01m{\u001b[39;00mnumber\u001b[38;5;132;01m}\u001b[39;00m\u001b[38;5;124m.\u001b[39m\u001b[38;5;124m'\u001b[39m)\n",
      "Cell \u001b[0;32mIn[28], line 8\u001b[0m, in \u001b[0;36mtext_count_to_number\u001b[0;34m(text_count)\u001b[0m\n\u001b[1;32m      4\u001b[0m p \u001b[38;5;241m=\u001b[39m inflect\u001b[38;5;241m.\u001b[39mengine()\n\u001b[1;32m      6\u001b[0m \u001b[38;5;28;01mtry\u001b[39;00m:\n\u001b[1;32m      7\u001b[0m     \u001b[38;5;66;03m# Convert text count to number using inflect's word_to_number function\u001b[39;00m\n\u001b[0;32m----> 8\u001b[0m     number \u001b[38;5;241m=\u001b[39m p\u001b[38;5;241m.\u001b[39mword_to_number(text_count)\n\u001b[1;32m      9\u001b[0m     \u001b[38;5;28;01mreturn\u001b[39;00m number\n\u001b[1;32m     10\u001b[0m \u001b[38;5;28;01mexcept\u001b[39;00m \u001b[38;5;167;01mValueError\u001b[39;00m:\n",
      "\u001b[0;31mAttributeError\u001b[0m: 'engine' object has no attribute 'word_to_number'"
     ]
    }
   ],
   "source": [
    "import inflect\n",
    "\n",
    "def text_count_to_number(text_count):\n",
    "    p = inflect.engine()\n",
    "\n",
    "    try:\n",
    "        # Convert text count to number using inflect's word_to_number function\n",
    "        number = p.word_to_number(text_count)\n",
    "        return number\n",
    "    except ValueError:\n",
    "        return None  # Return None if conversion fails\n",
    "\n",
    "# Example usage\n",
    "text_count = 'One Hundred Eighty-One'\n",
    "number = text_count_to_number(text_count)\n",
    "if number is not None:\n",
    "    print(f'Textual count \"{text_count}\" is equivalent to {number}.')\n",
    "else:\n",
    "    print(f'Unable to convert \"{text_count}\" to a number.')"
   ]
  },
  {
   "cell_type": "code",
   "execution_count": null,
   "id": "726fd20c",
   "metadata": {},
   "outputs": [],
   "source": []
  }
 ],
 "metadata": {
  "kernelspec": {
   "display_name": "Python 3 (ipykernel)",
   "language": "python",
   "name": "python3"
  },
  "language_info": {
   "codemirror_mode": {
    "name": "ipython",
    "version": 3
   },
   "file_extension": ".py",
   "mimetype": "text/x-python",
   "name": "python",
   "nbconvert_exporter": "python",
   "pygments_lexer": "ipython3",
   "version": "3.11.3"
  }
 },
 "nbformat": 4,
 "nbformat_minor": 5
}
